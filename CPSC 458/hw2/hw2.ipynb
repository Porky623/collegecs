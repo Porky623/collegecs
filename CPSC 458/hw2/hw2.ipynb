{
 "cells": [
  {
   "attachments": {},
   "cell_type": "markdown",
   "metadata": {},
   "source": [
    "##### Imports"
   ]
  },
  {
   "cell_type": "code",
   "execution_count": 1,
   "metadata": {},
   "outputs": [],
   "source": [
    "import pandas as pd\n",
    "import yahooquery as yq\n",
    "from yahooquery import Ticker\n",
    "import matplotlib.pyplot as plt"
   ]
  },
  {
   "attachments": {},
   "cell_type": "markdown",
   "metadata": {},
   "source": [
    "### Gathering tickers\n",
    "I've done my best to compile a list of all the tickers in the S&P 500. I must have missed one, as my list had 502 stocks and not 503 like Wikipedia states, but it should be good enough for the purposes of this assignment. Afterwards, I removed BF.B and BRK.B because YahooQuery could not give me tickers for those two symbols."
   ]
  },
  {
   "cell_type": "code",
   "execution_count": 2,
   "metadata": {},
   "outputs": [],
   "source": [
    "f = open(\"sp500.txt\", 'r')\n",
    "tickernames = f.read().strip().split('\\n')\n",
    "tickernames.sort()\n",
    "tickers = {t: Ticker(t) for t in tickernames}"
   ]
  },
  {
   "attachments": {},
   "cell_type": "markdown",
   "metadata": {},
   "source": [
    "### Classifying tickers\n",
    "I wanted to compare like with like, so I had to classify each ticker somehow. I considered partitioning them based on industry, both sector and market cap, or just sector."
   ]
  },
  {
   "attachments": {},
   "cell_type": "markdown",
   "metadata": {},
   "source": [
    "##### Some helper methods"
   ]
  },
  {
   "cell_type": "code",
   "execution_count": 3,
   "metadata": {},
   "outputs": [],
   "source": [
    "def sector(t):\n",
    "    ap = tickers[t].asset_profile[t]\n",
    "    if isinstance(ap, str):\n",
    "        print('Could not find sector for', t)\n",
    "        return None\n",
    "    return tickers[t].asset_profile[t]['sector']\n",
    "def industry(t):\n",
    "    ap = tickers[t].asset_profile[t]\n",
    "    if isinstance(ap, str):\n",
    "        print('Could not find industry for', t)\n",
    "        return None\n",
    "    return tickers[t].asset_profile[t]['industry']\n",
    "def cap_size(t):\n",
    "    market_cap = tickers[t].price[t].get('marketCap')\n",
    "    if market_cap > 1e10:\n",
    "        return 'Large Cap'\n",
    "    if market_cap > 2e9:\n",
    "        return 'Medium Cap'\n",
    "    else:\n",
    "        return 'Small Cap'"
   ]
  },
  {
   "attachments": {},
   "cell_type": "markdown",
   "metadata": {},
   "source": [
    "Here, I categorize the tickers by industry. Many industries didn't even have 5 representatives (many only had 1), so I decided not to classify by industry."
   ]
  },
  {
   "cell_type": "code",
   "execution_count": null,
   "metadata": {},
   "outputs": [],
   "source": [
    "industries = {}\n",
    "for t in tickernames:\n",
    "    t_ind = industry(t)\n",
    "    if t_ind not in industries.keys():\n",
    "        industries[t_ind] = {t}\n",
    "    else:\n",
    "        industries[t_ind].add(t)\n",
    "print([(i, len(industries[i])) for i in industries.keys()])\n",
    "# Output: [('Diagnostics & Research', 12), ('Airlines', 5), ('Specialty Retail', 8), ('Consumer Electronics', 1), ('Drug Manufacturers—General', 10), ('Medical Distribution', 4), ('Medical Devices', 11), ('Insurance—Diversified', 3), ('Information Technology Services', 12), ('Software—Infrastructure', 10), ('Semiconductors', 14), ('Farm Products', 3), ('Staffing & Employment Services', 3), ('Software—Application', 12), ('Utilities—Regulated Electric', 23), ('Utilities—Diversified', 2), ('Insurance—Life', 5), ('Insurance—Specialty', 1), ('Insurance Brokers', 5), ('Specialty Chemicals', 10), ('Security & Protection Services', 1), ('Semiconductor Equipment & Materials', 4), ('Packaging & Containers', 7), ('Specialty Industrial Machinery', 17), ('Asset Management', 9), ('REIT—Specialty', 7), ('Internet Retail', 3), ('Computer Hardware', 5), ('Oil & Gas E&P', 11), ('Electronic Components', 3), ('Auto Parts', 3), ('REIT—Office', 2), ('Utilities—Regulated Gas', 2), ('Electronic Gaming & Multimedia', 3), ('REIT—Residential', 7), ('Utilities—Regulated Water', 1), ('Credit Services', 7), ('Aerospace & Defense', 10), ('Banks—Diversified', 4), ('Medical Instruments & Supplies', 9), ('Travel Services', 5), ('Oil & Gas Equipment & Services', 3), ('Packaged Foods', 9), ('Building Products & Equipment', 4), ('Farm & Heavy Construction Machinery', 3), ('Insurance—Property & Casualty', 6), ('Financial Data & Stock Exchanges', 8), ('Real Estate Services', 2), ('Chemicals', 2), ('Utilities—Renewable', 1), ('Agricultural Inputs', 4), ('Banks—Regional', 12), ('Household & Personal Products', 7), ('Integrated Freight & Logistics', 5), ('Telecom Services', 6), ('Healthcare Plans', 7), ('Restaurants', 6), ('Discount Stores', 5), ('Auto & Truck Dealerships', 2), ('Communication Equipment', 5), ('Railroads', 4), ('Specialty Business Services', 2), ('Drug Manufacturers—Specialty & Generic', 3), ('Oil & Gas Integrated', 2), ('Resorts & Casinos', 4), ('Residential Construction', 4), ('Entertainment', 9), ('Medical Care Facilities', 3), ('Consulting Services', 2), ('Solar', 3), ('REIT—Industrial', 3), ('Auto Manufacturers', 3), ('Industrial Distribution', 3), ('Copper', 1), ('REIT—Retail', 5), ('Scientific & Technical Instruments', 5), ('Health Information Services', 1), ('Internet Content & Information', 4), ('Capital Markets', 5), ('Leisure', 1), ('Home Improvement Retail', 2), ('Lodging', 2), ('Conglomerates', 2), ('REIT—Hotel & Motel', 1), ('Confectioners', 2), ('Biotechnology', 5), ('Advertising Agencies', 2), ('Engineering & Construction', 2), ('Beverages—Non-Alcoholic', 4), ('Oil & Gas Midstream', 4), ('Grocery Stores', 1), ('Furnishings, Fixtures & Appliances', 2), ('Building Materials', 2), ('Tobacco', 2), ('Oil & Gas Refining & Marketing', 3), ('Gold', 1), ('Footwear & Accessories', 1), ('Utilities—Independent Power Producers', 1), ('Steel', 2), ('Trucking', 1), ('REIT—Healthcare Facilities', 3), ('Insurance—Reinsurance', 1), ('Apparel Manufacturing', 2), ('Personal Services', 1), ('Apparel Retail', 2), ('Waste Management', 2), ('Tools & Accessories', 2), ('Beverages—Wineries & Distilleries', 1), ('Food Distribution', 1), ('Beverages—Brewers', 1), ('Luxury Goods', 1), ('Rental & Leasing Services', 1), ('REIT—Diversified', 1), ('Pharmaceutical Retailers', 1)]"
   ]
  },
  {
   "attachments": {},
   "cell_type": "markdown",
   "metadata": {},
   "source": [
    "Here, I categorize the tickers by both sector and market cap. There were no small cap stocks and very few medium cap stocks, so I decided not to use this as my classification method."
   ]
  },
  {
   "cell_type": "code",
   "execution_count": null,
   "metadata": {},
   "outputs": [],
   "source": [
    "seccap = {}\n",
    "for t in tickernames:\n",
    "    t_cap, t_sector = cap_size(t), sector(t)\n",
    "    if (t_sector, t_cap) not in seccap.keys():\n",
    "        seccap[(t_sector, t_cap)] = {t}\n",
    "    else:\n",
    "        seccap[(t_sector, t_cap)].add(t)\n",
    "print([(k, len(seccap[k])) for k in seccap.keys()])\n",
    "# Output: [(('Healthcare', 'Large Cap'), 62), (('Industrials', 'Medium Cap'), 7), (('Consumer Cyclical', 'Medium Cap'), 10), (('Technology', 'Large Cap'), 71), (('Financial Services', 'Large Cap'), 60), (('Consumer Defensive', 'Large Cap'), 35), (('Industrials', 'Large Cap'), 63), (('Utilities', 'Large Cap'), 28), (('Financial Services', 'Medium Cap'), 6), (('Basic Materials', 'Large Cap'), 21), (('Consumer Cyclical', 'Large Cap'), 49), (('Real Estate', 'Large Cap'), 29), (('Energy', 'Large Cap'), 23), (('Communication Services', 'Large Cap'), 21), (('Real Estate', 'Medium Cap'), 2), (('Communication Services', 'Medium Cap'), 3), (('Healthcare', 'Medium Cap'), 4), (('Technology', 'Medium Cap'), 2), (('Basic Materials', 'Medium Cap'), 1), (('Utilities', 'Medium Cap'), 2), (('Consumer Defensive', 'Medium Cap'), 1)]"
   ]
  },
  {
   "attachments": {},
   "cell_type": "markdown",
   "metadata": {},
   "source": [
    "Here, I categorize the tickers by sector. There's a good number of representatives in each sector (>20 in each sector), so I decide to use this as my classification."
   ]
  },
  {
   "cell_type": "code",
   "execution_count": 4,
   "metadata": {},
   "outputs": [
    {
     "name": "stdout",
     "output_type": "stream",
     "text": [
      "[('Healthcare', 66), ('Industrials', 69), ('Consumer Cyclical', 59), ('Technology', 74), ('Financial Services', 66), ('Consumer Defensive', 36), ('Utilities', 30), ('Basic Materials', 22), ('Real Estate', 31), ('Energy', 23), ('Communication Services', 24)]\n"
     ]
    }
   ],
   "source": [
    "sectors = {}\n",
    "for t in tickernames:\n",
    "    t_sec = sector(t)\n",
    "    if t_sec not in sectors.keys():\n",
    "        sectors[t_sec] = {t}\n",
    "    else:\n",
    "        sectors[t_sec].add(t)\n",
    "print([(s, len(sectors[s])) for s in sectors.keys()])\n",
    "    "
   ]
  },
  {
   "attachments": {},
   "cell_type": "markdown",
   "metadata": {},
   "source": [
    "### Data collection\n",
    "First, I needed to access the performance of each stock over the last 10 years."
   ]
  },
  {
   "cell_type": "code",
   "execution_count": 5,
   "metadata": {},
   "outputs": [],
   "source": [
    "def price_change(t, df):\n",
    "    start_price = df.loc[df.index.values[0]]['close']\n",
    "    start_date = df.index.values[0][1]\n",
    "    end_price = df.loc[df.index.values[-1]]['close']\n",
    "    end_date = df.index.values[-1][1]\n",
    "    pc = end_price/start_price\n",
    "    # print('Price for', t, 'went from', start_price, 'to', end_price, '-- a ratio of', pc, 'from', start_date, 'to', end_date)\n",
    "    return pc\n",
    "price_changes = {t: price_change(t, tickers[t].history(period=\"10y\")) for t in tickernames}\n",
    "\n",
    "sp500 = Ticker('^GSPC')\n",
    "sp500df = sp500.history(period=\"10y\")\n",
    "sp500change = price_change('^GSPC', sp500df)\n",
    "# sp500df['close'].plot(title=\"S and P 500 price\")\n",
    "# print(sp500df.loc[sp500df.index.values[0]]['close'])\n",
    "\n",
    "# price_changes['^GSPC'] = price_change('^GSPC', sp500df)"
   ]
  },
  {
   "attachments": {},
   "cell_type": "markdown",
   "metadata": {},
   "source": [
    "I then collected some more data from each symbol: P/E ratio, beta, dividend yield, book value, debt to equity, gross profits, profit margins, and ESG score.  \n",
    "Some symbols lack these data -- I store None for such cases."
   ]
  },
  {
   "cell_type": "code",
   "execution_count": 6,
   "metadata": {},
   "outputs": [],
   "source": [
    "tickerData = {}\n",
    "for t in tickernames:\n",
    "    tick = {}\n",
    "    # print(t)\n",
    "    tick['trailingPE'] = tickers[t].summary_detail[t].get('trailingPE')\n",
    "    tick['beta'] = tickers[t].summary_detail[t].get('beta')\n",
    "    tick['div_yield'] = tickers[t].summary_detail[t].get('trailingAnnualDividendYield')\n",
    "    book = tickers[t].key_stats[t]\n",
    "    tick['book_value'] = None if isinstance(book, str) else book.get('bookValue')\n",
    "    # tick['book_value'] = tickers[t].key_stats[t].get('bookValue')\n",
    "    tick['debt_to_equity'] = tickers[t].financial_data[t].get('debtToEquity')\n",
    "    tick['gross_profits'] = tickers[t].financial_data[t].get('grossProfits')\n",
    "    tick['profit_margins'] = tickers[t].financial_data[t].get('profitMargins')\n",
    "    esg = tickers[t].esg_scores[t]\n",
    "    tick['esg_score'] = None if isinstance(esg, str) else esg.get('totalEsg')\n",
    "    # tick['esg_score'] = tickers[t].esg_scores[t].get('totalEsg')\n",
    "    tickerData[t] = tick"
   ]
  },
  {
   "attachments": {},
   "cell_type": "markdown",
   "metadata": {},
   "source": [
    "I also considered the trend of \"expert\" recommendations over the last couple of months. I scored recommendations to reward strongBuy, buy, and hold recommendations, and to reward/punish a stock more for strong recommendations. In particular, I wanted some asymmetry in the scoring method to avoid the average recommendation trend being 0: I wanted recommendation trends to somewhat reflect what expert analysts think of the overarching stock market. (I don't know if the average trend would have been 0 in the case of perfect symmetry of weights, but it seemed plausible)\n",
    "\n",
    "Time taken: ~1.5 min"
   ]
  },
  {
   "cell_type": "code",
   "execution_count": 7,
   "metadata": {},
   "outputs": [],
   "source": [
    "def recommendation_score(t):\n",
    "    rec_trend = tickers[t].recommendation_trend\n",
    "    if rec_trend.empty:\n",
    "        return -100\n",
    "    rec_trend = [rec_trend['strongBuy'], rec_trend['buy'], rec_trend['hold'], rec_trend['sell'], rec_trend['strongSell']]\n",
    "    rec_scores = []\n",
    "    for i in range(4):\n",
    "        score = 4 * rec_trend[0][i] + 2 * rec_trend[1][i] + 1 * rec_trend[2][i] - 1 * rec_trend[3][i] - 4 * rec_trend[4][i]\n",
    "        rec_scores.append(score)\n",
    "    return rec_scores[0]-rec_scores[1]\n",
    "for t in tickernames:\n",
    "    tickerData[t]['rec'] = recommendation_score(t)"
   ]
  },
  {
   "attachments": {},
   "cell_type": "markdown",
   "metadata": {},
   "source": [
    "### Index analysis\n",
    "Now, I experiment to find which of these indices can predict performance. I plot each of them within each sector-size category: Stock Performance vs. Index Value. I also plot the performance of the S&P 500 as a baseline to compare with. I look for patterns qualitatively. Any correlations found here will be taken into account for non-income recommendations."
   ]
  },
  {
   "cell_type": "code",
   "execution_count": 8,
   "metadata": {},
   "outputs": [
    {
     "data": {
      "image/png": "[encoded data removed]",
      "text/plain": [
       "<Figure size 640x480 with 4 Axes>"
      ]
     },
     "metadata": {},
     "output_type": "display_data"
    }
   ],
   "source": [
    "index = 'trailingPE'\n",
    "all_sectors = list(sectors.keys())\n",
    "plot, axs = plt.subplots(2, 2)\n",
    "for i, sect in enumerate(all_sectors[:4]):\n",
    "    x_axis, y_axis = [], []\n",
    "    for t in sectors[sect]:\n",
    "        if tickerData[t][index] != None:\n",
    "            # remove what I observed to be outliers so the overall pattern is clearer\n",
    "            if tickerData[t][index] > 300:\n",
    "                continue\n",
    "            x_axis.append(tickerData[t][index])\n",
    "            y_axis.append(price_changes[t])\n",
    "    axs[i//2, i % 2].scatter(x_axis, y_axis)\n",
    "    axs[i//2, i % 2].set_title('Trailing PE for ' + sect)\n",
    "    axs[i//2, i % 2].axhline(y = sp500change, color=\"red\", linestyle='-')\n",
    "for ax in axs.flat:\n",
    "    ax.label_outer()\n",
    "plt.show()"
   ]
  },
  {
   "attachments": {},
   "cell_type": "markdown",
   "metadata": {},
   "source": [
    "Here are my conclusions:\n",
    " * P/E ratio\n",
    "   * Healthcare: Higher P/E is better, with exception for ridiculously high P/E (>1000)\n",
    "   * Industrials: Difficult to correlate P/E with success\n",
    "   * Consumer Cyclical: Difficult to correlate P/E with success\n",
    "   * Technology: Higher P/E is somewhat better, with exception for ridiculously high P/E (>200)\n",
    "   * Financial Services: Higher P/E tends to be better\n",
    "   * Consumer Defensive: Difficult to correlate P/E with success\n",
    "   * Utilities: Higher P/E tends to be better, with exception for rather high P/E (>40)\n",
    "   * Basic Materials: Difficult to correlate P/E with success\n",
    "   * Real Estate: Difficult to correlate P/E with success\n",
    "   * Energy: Difficult to correlate P/E with success\n",
    "   * Communication Services: Higher P/E slightly correlates with success\n",
    " * Beta\n",
    "   * Healthcare: Difficult to correlate beta with success\n",
    "   * Industrials: Difficult to correlate beta with success\n",
    "   * Consumer Cyclical: Difficult to correlate beta with success\n",
    "   * Technology: Difficult to correlate beta with success\n",
    "   * Financial Services: Difficult to correlate beta with success\n",
    "   * Consumer Defensive: Difficult to correlate beta with success\n",
    "   * Utilities: Beta slightly negatively correlated with success\n",
    "   * Basic Materials: Difficult to correlate beta with success\n",
    "   * Real Estate: Difficult to correlate beta with success\n",
    "   * Energy: Difficult to correlate beta with success\n",
    "   * Communication Services: Difficult to correlate beta with success\n",
    " * Dividend Yields\n",
    "   * Healthcare: Dividend yields are slightly negatively correlated with success\n",
    "   * Industrials: Dividend yields are somewhat negatively correlated with success\n",
    "   * Consumer Cyclical: Difficult to correlate dividend yields with success\n",
    "   * Technology: Difficult to correlate dividend yields with success\n",
    "   * Financial Services: Dividend yields are negatively correlated with success\n",
    "   * Consumer Defensive: Dividend yields are negatively correlated with success\n",
    "   * Utilities: Dividend yields are negatively correlated with success\n",
    "   * Basic Materials: Difficult to correlate dividend yields with success\n",
    "   * Real Estate: Dividend yields are somewhat negatively correlated with success\n",
    "   * Energy: Difficult to correlate dividend yields with success\n",
    "   * Communication Services: Difficult to correlate dividend yields with success\n",
    " * Book Value\n",
    "   * Healthcare: Difficult to correlate book value with success\n",
    "   * Industrials: Difficult to correlate book value with success\n",
    "   * Consumer Cyclical: Difficult to correlate book value with success\n",
    "   * Technology: Difficult to correlate book value with success\n",
    "   * Financial Services: Difficult to correlate book value with success\n",
    "   * Consumer Defensive: Difficult to correlate book value with success\n",
    "   * Utilities: Difficult to correlate book value with success\n",
    "   * Basic Materials: Difficult to correlate book value with success\n",
    "   * Real Estate: Difficult to correlate book value with success\n",
    "   * Energy: Book value slightly positively correlated with success\n",
    "   * Communication Services: Difficult to correlate book value with success\n",
    " * Debt to Equity\n",
    "   * Healthcare: Difficult to correlate debt-to-equity with success\n",
    "   * Industrials: Difficult to correlate debt-to-equity with success\n",
    "   * Consumer Cyclical: Difficult to correlate debt-to-equity with success\n",
    "   * Technology: Difficult to correlate debt-to-equity with success\n",
    "   * Financial Services: Difficult to correlate debt-to-equity with success\n",
    "   * Consumer Defensive: Difficult to correlate debt-to-equity with success\n",
    "   * Utilities: Difficult to correlate debt-to-equity with success\n",
    "   * Basic Materials: Difficult to correlate debt-to-equity with success\n",
    "   * Real Estate: Difficult to correlate debt-to-equity with success\n",
    "   * Energy: Difficult to correlate debt-to-equity with success\n",
    "   * Communication Services: Difficult to correlate debt-to-equity with success\n",
    " * Gross Profits\n",
    "   * Healthcare: Difficult to correlate gross profits with success\n",
    "   * Industrials: Gross profits negatively correlated with success\n",
    "   * Consumer Cyclical: Difficult to correlate gross profits with success\n",
    "   * Technology: Gross profits negatively correlated with success\n",
    "   * Financial Services: Gross profits negatively correlated with success\n",
    "   * Consumer Defensive: Difficult to correlate gross profits with success\n",
    "   * Utilities: Difficult to correlate gross profits with success\n",
    "   * Basic Materials: Difficult to correlate gross profits with success\n",
    "   * Real Estate: Difficult to correlate gross profits with success\n",
    "   * Energy: Difficult to correlate gross profits with success\n",
    "   * Communication Services: Difficult to correlate gross profits with success\n",
    " * Profit Margins\n",
    "   * Healthcare: Difficult to correlate profit margins with success\n",
    "   * Industrials: Profit margins somewhat positively correlated with success\n",
    "   * Consumer Cyclical: Difficult to correlate profit margins with success\n",
    "   * Technology: Difficult to correlate profit margins with success\n",
    "   * Financial Services: Difficult to correlate profit margins with success\n",
    "   * Consumer Defensive: Difficult to correlate profit margins with success\n",
    "   * Utilities: Profit margins somewhat positively correlated with success\n",
    "   * Basic Materials: Difficult to correlate profit margins with success\n",
    "   * Real Estate: Difficult to correlate profit margins with success\n",
    "   * Energy: Difficult to correlate profit margins with success\n",
    "   * Communication Services: Difficult to correlate profit margins with success\n",
    " * ESG Score\n",
    "   * Healthcare: Difficult to correlate ESG score with success\n",
    "   * Industrials: Difficult to correlate ESG score with success\n",
    "   * Consumer Cyclical: Difficult to correlate ESG score with success\n",
    "   * Technology: Difficult to correlate ESG score with success\n",
    "   * Financial Services: ESG score slightly negatively correlated with success\n",
    "   * Consumer Defensive: Difficult to correlate ESG score with success\n",
    "   * Utilities: Difficult to correlate ESG score with success\n",
    "   * Basic Materials: Difficult to correlate ESG score with success\n",
    "   * Real Estate: Difficult to correlate ESG score with success\n",
    "   * Energy: Difficult to correlate ESG score with success\n",
    "   * Communication Services: Difficult to correlate ESG score with success"
   ]
  },
  {
   "attachments": {},
   "cell_type": "markdown",
   "metadata": {},
   "source": [
    "### The program itself"
   ]
  },
  {
   "cell_type": "code",
   "execution_count": 9,
   "metadata": {},
   "outputs": [],
   "source": [
    "def percentile(t, index):\n",
    "    sect = sector(t)\n",
    "    val = tickerData[t][index] if index != 'change' else price_changes[t]\n",
    "    if val == None:\n",
    "        print('Error: no value for ticker', t, 'and index', index)\n",
    "        return 0\n",
    "    num_beat, num_data = 0, 0\n",
    "    for tick in sectors[sect]:\n",
    "        valprime = tickerData[tick][index] if index != 'change' else price_changes[t]\n",
    "        if valprime != None:\n",
    "            num_data += 1\n",
    "            if val > valprime:\n",
    "                num_beat += 1\n",
    "    return num_beat/num_data"
   ]
  },
  {
   "attachments": {},
   "cell_type": "markdown",
   "metadata": {},
   "source": [
    "#### Default recommendation\n",
    "In general, I take into account dividend yields, P/E ratio, and recommendation trend when recommending a stock. For the first two, I only take them into account if I deemed them applicable to the sector as in the above. Based on the weightings I encoded for each result, the most weight is given to the recommendation trend with the assumption that using an **ensemble** of models (like a group of analysts' models) is often more accurate than a single prediction."
   ]
  },
  {
   "cell_type": "code",
   "execution_count": 10,
   "metadata": {},
   "outputs": [],
   "source": [
    "def general_invest(t, adjustibles):\n",
    "    sect = sector(t)\n",
    "    pros, cons = [], []\n",
    "    pe_pos = ['Healthcare', 'Technology', 'Financial Services', 'Utilities', 'Communication Services']\n",
    "    pe_thres = {'Healthcare': 1000, 'Technology': 200, 'Utilities': 40}\n",
    "    div_neg = ['Healthcare', 'Industrials', 'Financial Services', 'Consumer Defensive', 'Utilities', 'Real Estate']\n",
    "\n",
    "    score = 0\n",
    "    \n",
    "    if sect in div_neg:\n",
    "        div = tickerData[t]['div_yield']\n",
    "        div_percentile = percentile(t, 'div_yield')\n",
    "        if div_percentile >= .8:\n",
    "            cons.append('  Dividend yields are '+str(div)+', the '+str(int(100*div_percentile))+'% percentile in the sector. High dividends, implying probably low growth in this sector.')\n",
    "            score -= adjustibles[0][0]\n",
    "        else:\n",
    "            pros.append('  Dividend yields are '+str(div)+', the '+str(int(100*div_percentile))+'% percentile in the sector. Not high dividends, does not imply low growth in this sector.')\n",
    "            score += adjustibles[0][1]\n",
    "    else: print('Dividend yields are not a good metric for this stock.')\n",
    "    if sect in pe_pos:\n",
    "        pe = tickerData[t]['trailingPE']\n",
    "        pe_percentile = percentile(t, 'trailingPE')\n",
    "        if sect in pe_thres.keys() and pe > pe_thres[sect]:\n",
    "            cons.append('  P/E ratio is '+str(pe)+', very high. Risky investment.')\n",
    "            score -= adjustibles[1][0]\n",
    "        elif pe_percentile > .3:\n",
    "            pros.append('  P/E ratios is '+str(pe)+', the '+str(int(100*pe_percentile))+'% percentile in the sector. Reasonably high P/E ratio, which is good.')\n",
    "            score += adjustibles[1][1]\n",
    "        else:\n",
    "            cons.append('  P/E ratios is '+str(pe)+', the '+str(int(100*pe_percentile))+'% percentile in the sector. Rather low P/E ratio, which is not great.')\n",
    "            score -= adjustibles[1][2]\n",
    "    else: print('P/E ratio is not a good metric for this stock.')\n",
    "    \n",
    "    rec_score = tickerData[t]['rec']\n",
    "    score += rec_score\n",
    "    rec_percentile = percentile(t, 'rec')\n",
    "    if rec_percentile >= .5:\n",
    "        pros.append('  Recommendation score (change over last month) is '+str(rec_score)+', the '+str(int(100*rec_percentile))+'% percentile in the sector. Relatively good recommendation change.')\n",
    "        score += adjustibles[2][0]\n",
    "    else:\n",
    "        cons.append('  Recommendation score (change over last month) is '+str(rec_score)+', the '+str(int(100*rec_percentile))+'% percentile in the sector. Relatively low recommendation change.')\n",
    "        score -= adjustibles[2][1]\n",
    "    if rec_score >= 8:\n",
    "        pros.append('  Recommendation score (change over last month) is '+str(rec_score)+'. Positive recommendation change.')\n",
    "    elif rec_score <= -8:\n",
    "        cons.append('  Recommendation score (change over last month) is '+str(rec_score)+'. Negative recommendation change.')\n",
    "    \n",
    "    return pros, cons, score"
   ]
  },
  {
   "attachments": {},
   "cell_type": "markdown",
   "metadata": {},
   "source": [
    "I essentially just use the general recommender to make the default recommendation."
   ]
  },
  {
   "cell_type": "code",
   "execution_count": 11,
   "metadata": {},
   "outputs": [],
   "source": [
    "def invest_default(t):\n",
    "    print('Analyzing ticker', t, 'generally.')\n",
    "\n",
    "    pros, cons, score = general_invest(t, [(1, 1), (5, 2, 1), (2, 2)])\n",
    "\n",
    "    print(\"Pros:\")\n",
    "    for p in pros:\n",
    "        print(p)\n",
    "    print(\"Cons:\")\n",
    "    for c in cons:\n",
    "        print(c)\n",
    "    print('Verdict:')\n",
    "    if score >= 5:\n",
    "        print('  Buy')\n",
    "        return 'buy'\n",
    "    elif score <= -3:\n",
    "        print('  Sell')\n",
    "        return 'sell'\n",
    "    else:\n",
    "        print('  Hold')\n",
    "        return 'hold'"
   ]
  },
  {
   "attachments": {},
   "cell_type": "markdown",
   "metadata": {},
   "source": [
    "#### Growth stocks\n",
    "What makes a good growth stock is one that has shown it can sustain strong growth, and one that has the room in the market to grow (in particular, it definitely shouldn't be an overvalued stock). This is tricky for a program to analyze, since the approach I'd take is to study the company's industry trends, leadership background and approach, and target market -- none of which seem very conducive to an automated approach without training an impressive NLP model and sentiment analyzer.  \n",
    "Thus, my approach is to largely look at the same categories as in the general recommender (using the indices I found to be correlated with success in the previous section), only with a greater emphasis on price to earnings ratio: I need growth stocks to be in the sweet spot of having a high enough P/E to indicate investor sentiment being bullish on its growth, while definitely not having such a high P/E that it seems overvalued.  \n",
    "Also, with a growth stock, I'm more willing to take on risk -- I'd actually like a higher beta so the stock can grow more."
   ]
  },
  {
   "cell_type": "code",
   "execution_count": 12,
   "metadata": {},
   "outputs": [],
   "source": [
    "def invest_growth(t):\n",
    "    print('Analyzing ticker', t, 'for growth.')\n",
    "\n",
    "    # Changed weightings so P/E ratio is more important\n",
    "    pros, cons, score = general_invest(t, [(1, 1), (5, 5, 3), (2, 2)])\n",
    "\n",
    "    beta = tickerData[t]['beta']\n",
    "    beta_percentile = percentile(t, 'beta')\n",
    "    if beta_percentile >= .9:\n",
    "        cons.append('  Beta is '+str(beta)+', the '+str(int(100*beta_percentile))+'% percentile in the sector. Too high of a beta.')\n",
    "        score -= 3\n",
    "    elif beta_percentile >= .5:\n",
    "        pros.append('  Beta is '+str(beta)+', the '+str(int(100*beta_percentile))+'% percentile in the sector. Good, high beta.')\n",
    "        score += 5\n",
    "    elif beta_percentile >= .3:\n",
    "        pros.append('  Beta is '+str(beta)+', the '+str(int(100*beta_percentile))+'% percentile in the sector. Somewhat high beta.')\n",
    "        score += 2\n",
    "    else:\n",
    "        cons.append('  Beta is '+str(beta)+', the '+str(int(100*beta_percentile))+'% percentile in the sector. Not high enough of a beta.')\n",
    "        score -= 2\n",
    "\n",
    "    print(\"Pros:\")\n",
    "    for p in pros:\n",
    "        print(p)\n",
    "    print(\"Cons:\")\n",
    "    for c in cons:\n",
    "        print(c)\n",
    "    print('Verdict:')\n",
    "    if score >= 5:\n",
    "        print('  Buy')\n",
    "        return 'buy'\n",
    "    elif score <= -3:\n",
    "        print('  Sell')\n",
    "        return 'sell'\n",
    "    else:\n",
    "        print('  Hold')\n",
    "        return 'hold'"
   ]
  },
  {
   "attachments": {},
   "cell_type": "markdown",
   "metadata": {},
   "source": [
    "#### ESG-conscious recommendation\n",
    "I again use a similar approach to the general recommendation program, only with a threshold on ESG: the stock must not be in the bottom 35% of its sector for me to recommend at least holding it.  \n",
    "Relatively high ESG scores are also rewarded."
   ]
  },
  {
   "cell_type": "code",
   "execution_count": 13,
   "metadata": {},
   "outputs": [],
   "source": [
    "def invest_esg(t):\n",
    "    print('Analyzing ticker', t, 'for ESG.')\n",
    "\n",
    "    pros, cons, score = general_invest(t, [(1, 1), (5, 2, 1), (2, 2)])\n",
    "\n",
    "    esg = tickerData[t]['esg_score']\n",
    "    esg_percentile = percentile(t, 'esg_score')\n",
    "    if esg_percentile >= .7:\n",
    "        pros.append('  ESG score is '+str(esg)+', the '+str(int(100*esg_percentile))+'% percentile in the sector. Relatively high ESG score.')\n",
    "        score += 3\n",
    "    elif esg_percentile >= .35:\n",
    "        pros.append('  ESG score is '+str(esg)+', the '+str(int(100*esg_percentile))+'% percentile in the sector. OK ESG score.')\n",
    "    else:\n",
    "        cons.append('  ESG score is '+str(esg)+', the '+str(int(100*esg_percentile))+'% percentile in the sector. Relatively low ESG score.')\n",
    "\n",
    "    print(\"Pros:\")\n",
    "    for p in pros:\n",
    "        print(p)\n",
    "    print(\"Cons:\")\n",
    "    for c in cons:\n",
    "        print(c)\n",
    "    print('Verdict:')\n",
    "    if esg_percentile < .35:\n",
    "        print('  Sell')\n",
    "        return 'sell'\n",
    "    elif score >= 5:\n",
    "        print('  Buy')\n",
    "        return 'buy'\n",
    "    elif score <= -3:\n",
    "        print('  Sell')\n",
    "        return 'sell'\n",
    "    else:\n",
    "        print('  Hold')\n",
    "        return 'hold'"
   ]
  },
  {
   "attachments": {},
   "cell_type": "markdown",
   "metadata": {},
   "source": [
    "#### Income stocks\n",
    "The goal for income stocks is simple: reliable dividend yields (among its sector). I don't think a good income stock can have very low dividend yields, even if its' ultra stable, so that's my condition for a 'hold' or higher. To 'buy,' I also check if the stock has been stable by looking for a relatively low beta and low change in price. Growth isn't necessary for an income stock."
   ]
  },
  {
   "cell_type": "code",
   "execution_count": 14,
   "metadata": {},
   "outputs": [],
   "source": [
    "def invest_income(t):\n",
    "    print(\"Analyzing ticker\", t, \"for income.\")\n",
    "    sect = sector(t)\n",
    "    num_sec = len(sectors[sect])\n",
    "    pros, cons = [], []\n",
    "\n",
    "    div = tickerData[t]['div_yield']\n",
    "    div_percentile = percentile(t, 'div_yield')\n",
    "    if div_percentile >= .25:\n",
    "        pros.append('  Dividend yields are ' + str(div) + ', the ' + str(int(div_percentile * 100)) + '% percentile of the sector. Good dividends.')\n",
    "    else:\n",
    "        cons.append('  Dividend yields are ' + str(div) + ', the ' + str(int(div_percentile * 100)) + '% percentile of the sector. Not much dividends.')\n",
    "    \n",
    "    beta = tickerData[t]['beta']\n",
    "    beta_percentile = percentile(t, 'beta')\n",
    "    if beta_percentile >= .7:\n",
    "        cons.append('  Beta is ' + str(beta) + \", lower than only \" + str(int(beta_percentile * 100)) + '% of the sector. Too volatile.')\n",
    "    else:\n",
    "        pros.append('  Beta is ' + str(beta) + \", lower than a whole \" + str(int(beta_percentile * 100)) + '% of the sector. Stable.')\n",
    "\n",
    "    change = price_changes[t]\n",
    "    change_percentile = percentile(t, 'change')\n",
    "    if change_percentile >= .7:\n",
    "        cons.append('  Price change is ' + str(beta) + \", lower than only \" + str(int(beta_percentile * 100)) + '% of the sector. Too volatile.')\n",
    "    else:\n",
    "        pros.append('  Price change is ' + str(beta) + \", lower than a whole \" + str(int(beta_percentile * 100)) + '% of the sector. Stable.')\n",
    "    print(\"Pros:\")\n",
    "    for p in pros:\n",
    "        print(p)\n",
    "    print(\"Cons:\")\n",
    "    for c in cons:\n",
    "        print(c)\n",
    "    print(\"Verdict:\")\n",
    "    if len(pros) == 3:\n",
    "        print('  Buy')\n",
    "        return 'buy'\n",
    "    elif div_percentile >= 0.25:\n",
    "        print('  Hold')\n",
    "        return 'hold'\n",
    "    else:\n",
    "        print('  Sell')\n",
    "        return 'sell'"
   ]
  },
  {
   "cell_type": "code",
   "execution_count": 15,
   "metadata": {},
   "outputs": [],
   "source": [
    "def invest(ticker, client=False):\n",
    "    ticker = ticker.upper()\n",
    "    if client == False:\n",
    "        return invest_default(ticker)\n",
    "    if client == 'growth':\n",
    "        return invest_growth(ticker)\n",
    "    if client == 'income':\n",
    "        return invest_income(ticker)\n",
    "    return invest_esg(ticker)"
   ]
  },
  {
   "attachments": {},
   "cell_type": "markdown",
   "metadata": {},
   "source": [
    "One example of output"
   ]
  },
  {
   "cell_type": "code",
   "execution_count": 16,
   "metadata": {},
   "outputs": [
    {
     "name": "stdout",
     "output_type": "stream",
     "text": [
      "Analyzing ticker AAPL generally.\n",
      "Dividend yields are not a good metric for this stock.\n",
      "Pros:\n",
      "  P/E ratios is 28.578856, the 38% percentile in the sector. Reasonably high P/E ratio, which is good.\n",
      "  Recommendation score (change over last month) is 1, the 63% percentile in the sector. Relatively good recommendation change.\n",
      "Cons:\n",
      "Verdict:\n",
      "  Buy\n",
      "Analyzing ticker AAPL for growth.\n",
      "Dividend yields are not a good metric for this stock.\n",
      "Pros:\n",
      "  P/E ratios is 28.578856, the 38% percentile in the sector. Reasonably high P/E ratio, which is good.\n",
      "  Recommendation score (change over last month) is 1, the 63% percentile in the sector. Relatively good recommendation change.\n",
      "  Beta is 1.297088, the 65% percentile in the sector. Good, high beta.\n",
      "Cons:\n",
      "Verdict:\n",
      "  Buy\n",
      "Analyzing ticker AAPL for ESG.\n",
      "Dividend yields are not a good metric for this stock.\n",
      "Pros:\n",
      "  P/E ratios is 28.578856, the 38% percentile in the sector. Reasonably high P/E ratio, which is good.\n",
      "  Recommendation score (change over last month) is 1, the 63% percentile in the sector. Relatively good recommendation change.\n",
      "  ESG score is 16.68, the 59% percentile in the sector. OK ESG score.\n",
      "Cons:\n",
      "Verdict:\n",
      "  Buy\n",
      "Analyzing ticker AAPL for income.\n",
      "Pros:\n",
      "  Dividend yields are 0.0056048287, the 35% percentile of the sector. Good dividends.\n",
      "  Beta is 1.297088, lower than a whole 65% of the sector. Stable.\n",
      "  Price change is 1.297088, lower than a whole 65% of the sector. Stable.\n",
      "Cons:\n",
      "Verdict:\n",
      "  Buy\n"
     ]
    },
    {
     "data": {
      "text/plain": [
       "'buy'"
      ]
     },
     "execution_count": 16,
     "metadata": {},
     "output_type": "execute_result"
    }
   ],
   "source": [
    "invest('aapl')\n",
    "invest('aapl', 'growth')\n",
    "invest('aapl', 'esg')\n",
    "invest('aapl', 'income')"
   ]
  },
  {
   "attachments": {},
   "cell_type": "markdown",
   "metadata": {},
   "source": [
    "A different ticker as an example, where the recommendations are not the same."
   ]
  },
  {
   "cell_type": "code",
   "execution_count": 17,
   "metadata": {},
   "outputs": [
    {
     "name": "stdout",
     "output_type": "stream",
     "text": [
      "Analyzing ticker MRK generally.\n",
      "Pros:\n",
      "  Dividend yields are 0.023413898, the 69% percentile in the sector. Not high dividends, does not imply low growth in this sector.\n",
      "  P/E ratios is 38.42181, the 66% percentile in the sector. Reasonably high P/E ratio, which is good.\n",
      "Cons:\n",
      "  Recommendation score (change over last month) is -16, the 12% percentile in the sector. Relatively low recommendation change.\n",
      "  Recommendation score (change over last month) is -16. Negative recommendation change.\n",
      "Verdict:\n",
      "  Sell\n",
      "Analyzing ticker MRK for income.\n",
      "Pros:\n",
      "  Dividend yields are 0.023413898, the 69% percentile of the sector. Good dividends.\n",
      "  Beta is 0.372384, lower than a whole 4% of the sector. Stable.\n",
      "  Price change is 0.372384, lower than a whole 4% of the sector. Stable.\n",
      "Cons:\n",
      "Verdict:\n",
      "  Buy\n"
     ]
    },
    {
     "data": {
      "text/plain": [
       "'buy'"
      ]
     },
     "execution_count": 17,
     "metadata": {},
     "output_type": "execute_result"
    }
   ],
   "source": [
    "invest('mrk')\n",
    "invest('mrk', 'income')"
   ]
  },
  {
   "attachments": {},
   "cell_type": "markdown",
   "metadata": {},
   "source": [
    "Another example, where 'buy,' 'sell,' and 'hold' are all recommended for different purposes."
   ]
  },
  {
   "cell_type": "code",
   "execution_count": 18,
   "metadata": {},
   "outputs": [
    {
     "name": "stdout",
     "output_type": "stream",
     "text": [
      "Analyzing ticker NVR generally.\n",
      "Dividend yields are not a good metric for this stock.\n",
      "P/E ratio is not a good metric for this stock.\n",
      "Pros:\n",
      "  Recommendation score (change over last month) is 2, the 61% percentile in the sector. Relatively good recommendation change.\n",
      "Cons:\n",
      "Verdict:\n",
      "  Hold\n",
      "Analyzing ticker NVR for growth.\n",
      "Dividend yields are not a good metric for this stock.\n",
      "P/E ratio is not a good metric for this stock.\n",
      "Pros:\n",
      "  Recommendation score (change over last month) is 2, the 61% percentile in the sector. Relatively good recommendation change.\n",
      "  Beta is 0.997559, the 32% percentile in the sector. Somewhat high beta.\n",
      "Cons:\n",
      "Verdict:\n",
      "  Buy\n",
      "Analyzing ticker NVR for income.\n",
      "Error: no value for ticker NVR and index div_yield\n",
      "Pros:\n",
      "  Beta is 0.997559, lower than a whole 32% of the sector. Stable.\n",
      "  Price change is 0.997559, lower than a whole 32% of the sector. Stable.\n",
      "Cons:\n",
      "  Dividend yields are None, the 0% percentile of the sector. Not much dividends.\n",
      "Verdict:\n",
      "  Sell\n"
     ]
    },
    {
     "data": {
      "text/plain": [
       "'sell'"
      ]
     },
     "execution_count": 18,
     "metadata": {},
     "output_type": "execute_result"
    }
   ],
   "source": [
    "invest('nvr')\n",
    "invest('nvr', 'growth')\n",
    "invest('nvr', 'income')"
   ]
  }
 ],
 "metadata": {
  "kernelspec": {
   "display_name": ".venv",
   "language": "python",
   "name": "python3"
  },
  "language_info": {
   "codemirror_mode": {
    "name": "ipython",
    "version": 3
   },
   "file_extension": ".py",
   "mimetype": "text/x-python",
   "name": "python",
   "nbconvert_exporter": "python",
   "pygments_lexer": "ipython3",
   "version": "3.11.1"
  },
  "orig_nbformat": 4,
  "vscode": {
   "interpreter": {
    "hash": "3035d9f3278ca801b10809e60e2b3fdfb3f1b671747c98a5de3872eb8e1c4299"
   }
  }
 },
 "nbformat": 4,
 "nbformat_minor": 2
}
