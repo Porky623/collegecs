{
 "cells": [
  {
   "attachments": {},
   "cell_type": "markdown",
   "metadata": {},
   "source": [
    "### About the project\n",
    "Out of all the modern automated decision systems, deep neural networks make explaining their decisions excruciatingly difficult. Being able to do so, however, is essential in many fields, from autonomous vehicles to medical diagnoses to credit scoring, and for reasons ranging from being able to trust the model to privacy concerns to improving model performance.\n",
    "\n",
    "So, I started with a deep neural network. In my project, I trained a basic Convolutional Neural Network (CNN) that classifies images in the MNIST handwritten digits dataset. I wanted it to \"explain its decision-making process.\" How? I essentially ask it, \"What is an image that you'd think is *very much* the digit '1'?\" This visually reveals features that it considers important for the digit '1', and if I ask the same question of it many times for all the digits, I can built a mental model of what kinds of images the model will classify as a '1'. I can generate these images by gradient ascent on the neural network's activation score for each target class.\n",
    "\n",
    "The problem with this approach, though, is what is known to machine learning engineers as \"adversarial examples.\" Essentially, with the way deep neural networks are structured, there would be many images that to a human doesn't look different from a starting \"1 image,\" but that the neural network will classify as a '2'. My goal with this project is to train a Generative Adversarial Network (GAN) to function as a constraint on the images that can be produced with this process, restricting them to stricly \"natural images,\" i.e. images that could feasibly be found in the \"real world.\"\n",
    "\n",
    "### How to run this project\n",
    "I've already trained the CNN and GAN to a reasonable degree, and saved them in the '.pt' files. Thus, simply run the cells marked with the bolded **Run:** in order (i.e. 1, 2, 3, etc.)! A CUDA-enabled GPU might be necessary for some cells."
   ]
  },
  {
   "attachments": {},
   "cell_type": "markdown",
   "metadata": {},
   "source": [
    "### Code"
   ]
  },
  {
   "attachments": {},
   "cell_type": "markdown",
   "metadata": {},
   "source": [
    "#### Imports and Initialization\n",
    "**Run**: 1"
   ]
  },
  {
   "cell_type": "code",
   "execution_count": 1,
   "metadata": {},
   "outputs": [
    {
     "name": "stdout",
     "output_type": "stream",
     "text": [
      "Using cuda for inference\n"
     ]
    }
   ],
   "source": [
    "import torch\n",
    "import torch.nn as nn\n",
    "import torch.nn.functional as F\n",
    "import torch.optim as optim\n",
    "from torch.autograd import Variable\n",
    "from torchvision import datasets, transforms\n",
    "from torchvision.utils import save_image, make_grid\n",
    "from torch.utils.data import DataLoader\n",
    "from torch.optim.lr_scheduler import StepLR\n",
    "\n",
    "import numpy as np\n",
    "import matplotlib.pyplot as plt\n",
    "from PIL import Image\n",
    "import os\n",
    "import warnings\n",
    "warnings.filterwarnings('ignore')\n",
    "%matplotlib inline\n",
    "\n",
    "cuda = False\n",
    "if torch.cuda.is_available():\n",
    "    cuda = True\n",
    "    device = torch.device(\"cuda\")\n",
    "else: device = torch.device(\"cpu\")\n",
    "print(f'Using {device} for inference')"
   ]
  },
  {
   "attachments": {},
   "cell_type": "markdown",
   "metadata": {},
   "source": [
    "#### CNN code\n",
    "A very simple Convolutional Neural Network with the following architecture:  \n",
    " - Convolution turning 1 channel (MNIST is black and white!) into 32 channels -- kernel size 3 (relu activation)\n",
    " - Convolution turning 32 channels into 64 -- kernel size 3 (relu activation)\n",
    " - Max pooling (with 2x2 kernels) and dropout probability 0.5\n",
    " - Two fully connected layers leading to the final softmax to output probabilities\n",
    " \n",
    "**Run**: 2"
   ]
  },
  {
   "cell_type": "code",
   "execution_count": 2,
   "metadata": {},
   "outputs": [],
   "source": [
    "class CNN(nn.Module):\n",
    "    def __init__(self):\n",
    "        super(CNN, self).__init__()\n",
    "        self.conv1 = nn.Conv2d(1, 32, 3, 1)\n",
    "        self.conv2 = nn.Conv2d(32, 64, 3, 1)\n",
    "        self.dropout1 = nn.Dropout(0.25)\n",
    "        self.dropout2 = nn.Dropout(0.5)\n",
    "        self.fc1 = nn.Linear(9216, 128)\n",
    "        self.fc2 = nn.Linear(128, 10)\n",
    "\n",
    "    def forward(self, x):\n",
    "        x = self.conv1(x)\n",
    "        x = F.relu(x)\n",
    "        x = self.conv2(x)\n",
    "        x = F.relu(x)\n",
    "        x = F.max_pool2d(x, 2)\n",
    "        x = self.dropout1(x)\n",
    "        x = torch.flatten(x, 1)\n",
    "        x = self.fc1(x)\n",
    "        x = F.relu(x)\n",
    "        x = self.dropout2(x)\n",
    "        x = self.fc2(x)\n",
    "        output = F.log_softmax(x, dim=1)\n",
    "        return output"
   ]
  },
  {
   "attachments": {},
   "cell_type": "markdown",
   "metadata": {},
   "source": [
    "#### Training the CNN"
   ]
  },
  {
   "cell_type": "code",
   "execution_count": 32,
   "metadata": {},
   "outputs": [],
   "source": [
    "log_interval = 100\n",
    "def train_cnn(model, loader, optimizer, epoch):\n",
    "    model.train()\n",
    "    for batch_idx, (data, target) in enumerate(loader):\n",
    "        data, target = data.to(device), target.to(device)\n",
    "\n",
    "        optimizer.zero_grad()\n",
    "\n",
    "        output = model(data)\n",
    "\n",
    "        # Compute CNN's loss on the batch\n",
    "        loss = F.nll_loss(output, target)\n",
    "\n",
    "        loss.backward()\n",
    "        optimizer.step()\n",
    "        \n",
    "        if batch_idx % log_interval == 0:\n",
    "            print('Train Epoch: {} [{}/{} ({:.0f}%)]\\tLoss: {:.6f}'.format(\n",
    "                epoch, batch_idx * len(data), len(loader.dataset),\n",
    "                100. * batch_idx / len(loader), loss.item()))"
   ]
  },
  {
   "cell_type": "code",
   "execution_count": 54,
   "metadata": {},
   "outputs": [],
   "source": [
    "def test_cnn(model, loader):\n",
    "    model.eval()\n",
    "    test_loss, correct = 0, 0\n",
    "    with torch.no_grad():\n",
    "        for data, target in loader:\n",
    "            data, target = data.to(device), target.to(device)\n",
    "            output = model(data)\n",
    "            test_loss += F.nll_loss(output, target, reduction='sum').item()  # sum up batch loss\n",
    "            pred = output.argmax(dim=1, keepdim=True)  # get the index of the max log-probability\n",
    "            correct += pred.eq(target.view_as(pred)).sum().item()\n",
    "\n",
    "    test_loss /= len(loader.dataset)\n",
    "\n",
    "    print('\\nTest set: Average loss: {:.6f}, Accuracy: {}/{} ({:.1f}%)\\n'.format(\n",
    "        test_loss, correct, len(loader.dataset),\n",
    "        100. * correct / len(loader.dataset)))"
   ]
  },
  {
   "cell_type": "code",
   "execution_count": null,
   "metadata": {},
   "outputs": [],
   "source": [
    "# Hyperparameters\n",
    "seed = 1\n",
    "epochs = 14\n",
    "batch_size = 64\n",
    "test_batch_size = 1000\n",
    "lr = 1\n",
    "gamma = 0.7\n",
    "from_checkpoint=True\n",
    "\n",
    "torch.manual_seed(seed)\n",
    "\n",
    "# Prepare DataLoaders\n",
    "transform=transforms.Compose([\n",
    "    transforms.ToTensor(),\n",
    "    transforms.Normalize((0.1307,), (0.3081,))\n",
    "    ])\n",
    "train_dataset = datasets.MNIST('./data', train=True, download=True,\n",
    "                    transform=transform)\n",
    "test_dataset = datasets.MNIST('./data', train=False,\n",
    "                    transform=transform)\n",
    "train_loader = DataLoader(train_dataset, batch_size=batch_size)\n",
    "test_loader = DataLoader(test_dataset, batch_size=test_batch_size)\n",
    "\n",
    "model = CNN().to(device)\n",
    "if from_checkpoint:\n",
    "    model.load_state_dict(torch.load(\"mnist_cnn.pt\"))\n",
    "optimizer = optim.Adadelta(model.parameters(), lr=lr)\n",
    "scheduler = StepLR(optimizer, step_size=1, gamma=gamma)\n",
    "\n",
    "for epoch in range(epochs):\n",
    "    train_cnn(model, train_loader, optimizer, epoch)\n",
    "    test_cnn(model, test_loader)\n",
    "    scheduler.step()"
   ]
  },
  {
   "cell_type": "code",
   "execution_count": 55,
   "metadata": {},
   "outputs": [
    {
     "name": "stdout",
     "output_type": "stream",
     "text": [
      "\n",
      "Test set: Average loss: 0.030308, Accuracy: 9914/10000 (99.1%)\n",
      "\n"
     ]
    }
   ],
   "source": [
    "test_batch_size = 1000\n",
    "transform=transforms.Compose([\n",
    "    transforms.ToTensor(),\n",
    "    transforms.Normalize((0.1307,), (0.3081,))\n",
    "    ])\n",
    "test_dataset = datasets.MNIST('./data', train=False,\n",
    "                    transform=transform)\n",
    "test_loader = DataLoader(test_dataset, batch_size=test_batch_size)\n",
    "test_cnn(model, test_loader)"
   ]
  },
  {
   "attachments": {},
   "cell_type": "markdown",
   "metadata": {},
   "source": [
    "#### Save/load\n",
    "Code to save the CNN right after training, and loading the saved model on later runs."
   ]
  },
  {
   "cell_type": "code",
   "execution_count": 35,
   "metadata": {},
   "outputs": [],
   "source": [
    "# torch.save(model.state_dict(), \"mnist_cnn.pt\")"
   ]
  },
  {
   "attachments": {},
   "cell_type": "markdown",
   "metadata": {},
   "source": [
    "**Run**: 3  \n",
    "Initialize the CNN model to be explained with pretrained weights."
   ]
  },
  {
   "cell_type": "code",
   "execution_count": 3,
   "metadata": {},
   "outputs": [
    {
     "data": {
      "text/plain": [
       "CNN(\n",
       "  (conv1): Conv2d(1, 32, kernel_size=(3, 3), stride=(1, 1))\n",
       "  (conv2): Conv2d(32, 64, kernel_size=(3, 3), stride=(1, 1))\n",
       "  (dropout1): Dropout(p=0.25, inplace=False)\n",
       "  (dropout2): Dropout(p=0.5, inplace=False)\n",
       "  (fc1): Linear(in_features=9216, out_features=128, bias=True)\n",
       "  (fc2): Linear(in_features=128, out_features=10, bias=True)\n",
       ")"
      ]
     },
     "execution_count": 3,
     "metadata": {},
     "output_type": "execute_result"
    }
   ],
   "source": [
    "model = CNN()\n",
    "model.load_state_dict(torch.load(\"mnist_cnn.pt\"))\n",
    "model.eval()"
   ]
  },
  {
   "attachments": {},
   "cell_type": "markdown",
   "metadata": {},
   "source": [
    "#### GAN code\n",
    "This architecture is based on the paper \"Conditional Generative Adversarial Nets\" by Mehdi Mirza and Simon Osindero."
   ]
  },
  {
   "attachments": {},
   "cell_type": "markdown",
   "metadata": {},
   "source": [
    "**Run**: 4"
   ]
  },
  {
   "cell_type": "code",
   "execution_count": 4,
   "metadata": {},
   "outputs": [],
   "source": [
    "img_size = 28\n",
    "img_shape = 1, img_size, img_size\n",
    "n_classes = 10\n",
    "latent_dim = 100\n",
    "FloatTensor = torch.cuda.FloatTensor if cuda else torch.FloatTensor\n",
    "LongTensor = torch.cuda.LongTensor if cuda else torch.LongTensor\n",
    "class Generator(nn.Module):\n",
    "    def __init__(self):\n",
    "        super(Generator, self).__init__()\n",
    "\n",
    "        self.label_emb = nn.Embedding(n_classes, n_classes)\n",
    "\n",
    "        def block(in_feat, out_feat, normalize=True):\n",
    "            layers = [nn.Linear(in_feat, out_feat)]\n",
    "            if normalize:\n",
    "                layers.append(nn.BatchNorm1d(out_feat, 0.8))\n",
    "            layers.append(nn.LeakyReLU(0.2, inplace=True))\n",
    "            return layers\n",
    "        self.model = nn.Sequential(\n",
    "            *block(latent_dim + n_classes, 128, normalize=False),\n",
    "            *block(128, 256),\n",
    "            *block(256, 512),\n",
    "            *block(512, 1024),\n",
    "        )\n",
    "        self.fc1 = nn.Linear(1024, int(np.prod(img_shape)))\n",
    "        self.activate = nn.Tanh()\n",
    "\n",
    "\n",
    "    def forward(self, noise, labels):\n",
    "        gen_input = torch.cat((self.label_emb(labels), noise), -1)\n",
    "        img = self.model(gen_input)\n",
    "        img = self.fc1(img)\n",
    "        img = self.activate(img)\n",
    "        img = img.view(img.size(0), *img_shape)\n",
    "        return img"
   ]
  },
  {
   "attachments": {},
   "cell_type": "markdown",
   "metadata": {},
   "source": [
    "The discriminator is only needed when training the GAN -- it's not necessary for the explanation."
   ]
  },
  {
   "cell_type": "code",
   "execution_count": 5,
   "metadata": {},
   "outputs": [],
   "source": [
    "class Discriminator(nn.Module):\n",
    "    def __init__(self):\n",
    "        super(Discriminator, self).__init__()\n",
    "\n",
    "        self.label_embedding = nn.Embedding(n_classes, n_classes)\n",
    "\n",
    "        self.model = nn.Sequential(\n",
    "            nn.Linear(n_classes + int(np.prod(img_shape)), 512),\n",
    "            nn.LeakyReLU(0.2, inplace=True),\n",
    "            nn.Linear(512, 512),\n",
    "            nn.Dropout(0.4),\n",
    "            nn.LeakyReLU(0.2, inplace=True),\n",
    "            nn.Linear(512, 512),\n",
    "            nn.Dropout(0.4),\n",
    "            nn.LeakyReLU(0.2, inplace=True),\n",
    "            nn.Linear(512, 1),\n",
    "        )\n",
    "\n",
    "    def forward(self, img, labels):\n",
    "        d_in = torch.cat((img.view(img.size(0), -1), self.label_embedding(labels)), -1)\n",
    "        validity = self.model(d_in)\n",
    "        return validity"
   ]
  },
  {
   "attachments": {},
   "cell_type": "markdown",
   "metadata": {},
   "source": [
    "**Run**: 5  \n",
    "Simple code to generate n_samp random noise images as a starting point."
   ]
  },
  {
   "cell_type": "code",
   "execution_count": 6,
   "metadata": {},
   "outputs": [],
   "source": [
    "def gen_GAN_noise(n_samp):\n",
    "    z = Variable(FloatTensor(np.random.normal(0, 1, (n_samp*n_classes, latent_dim))))\n",
    "    labels = np.array([num for _ in range(n_samp) for num in range(n_classes)])\n",
    "    labels = Variable(LongTensor(labels))\n",
    "    return z, labels"
   ]
  },
  {
   "attachments": {},
   "cell_type": "markdown",
   "metadata": {},
   "source": [
    "This code is useful for checking the success of training the GAN -- not useful for explanation."
   ]
  },
  {
   "cell_type": "code",
   "execution_count": 24,
   "metadata": {},
   "outputs": [],
   "source": [
    "def sample_image(generator, n_row, batches_done=0, save=True):\n",
    "    \"\"\"Saves a grid of generated digits ranging from 0 to n_classes\"\"\"\n",
    "    z, labels = gen_GAN_noise(n_row)\n",
    "    gen_imgs = generator(z, labels)\n",
    "    if save:\n",
    "        save_image(gen_imgs.data, \"images/%d.png\" % batches_done, nrow=n_row, normalize=True)\n",
    "    else:\n",
    "        grid = make_grid(gen_imgs, nrow=n_row)\n",
    "        ndarr = grid.mul(255).add_(0.5).clamp_(0, 255).permute(1, 2, 0).to(\"cpu\", torch.uint8).numpy()\n",
    "        im = Image.fromarray(ndarr)\n",
    "        display(im)"
   ]
  },
  {
   "attachments": {},
   "cell_type": "markdown",
   "metadata": {},
   "source": [
    "The code to actually train the GAN -- not used in explanation."
   ]
  },
  {
   "cell_type": "code",
   "execution_count": 27,
   "metadata": {},
   "outputs": [],
   "source": [
    "log_interval = 400\n",
    "def train_gan(generator, discriminator, loader, optimizer_G, optimizer_D, loss, epoch):\n",
    "    generator.train()\n",
    "    discriminator.train()\n",
    "    for batch_idx, (data, target) in enumerate(loader):\n",
    "        data, target = data.to(device), target.to(device)\n",
    "\n",
    "        batch_size = data.shape[0]\n",
    "        # Prep for computing discriminator loss: adversarial ground truths\n",
    "        valid = Variable(FloatTensor(batch_size, 1).fill_(1.0), requires_grad=False)\n",
    "        fake = Variable(FloatTensor(batch_size, 1).fill_(0.0), requires_grad=False)\n",
    "\n",
    "        # Prep for real input\n",
    "        real_imgs = Variable(data.type(FloatTensor))\n",
    "        labels = Variable(target.type(LongTensor))\n",
    "\n",
    "        # -----------------\n",
    "        #  Train Generator\n",
    "        # -----------------\n",
    "\n",
    "        optimizer_G.zero_grad()\n",
    "        # Sample noise and labels as generator input\n",
    "        z = Variable(FloatTensor(np.random.normal(0, 1, (batch_size, latent_dim))))\n",
    "        gen_labels = Variable(LongTensor(np.random.randint(0, n_classes, batch_size)))\n",
    "\n",
    "        # Generate a batch of images\n",
    "        output_g = generator(z, gen_labels)\n",
    "        # Compute generator's loss on that batch\n",
    "        validity = discriminator(output_g, gen_labels)\n",
    "        g_loss = loss(validity, valid)\n",
    "\n",
    "        g_loss.backward()\n",
    "        optimizer_G.step()\n",
    "\n",
    "        # ---------------------\n",
    "        #  Train Discriminator\n",
    "        # ---------------------\n",
    "\n",
    "        optimizer_D.zero_grad()\n",
    "\n",
    "        # Compute discriminator's loss for real images\n",
    "        validity_real = discriminator(real_imgs, labels)\n",
    "        d_real_loss = loss(validity_real, valid)\n",
    "        # Compute discriminator's loss for fake images\n",
    "        validity_fake = discriminator(output_g.detach(), gen_labels)\n",
    "        d_fake_loss = loss(validity_fake, fake)\n",
    "        # Compute total discriminator loss\n",
    "        d_loss = (d_real_loss + d_fake_loss) / 2\n",
    "\n",
    "        d_loss.backward()\n",
    "        optimizer_D.step()\n",
    "\n",
    "        batches_done = epoch * len(loader) + batch_idx\n",
    "        if batches_done % log_interval == 0:\n",
    "            print('Train Epoch: {} [{}/{} ({:.0f}%)] [G loss: {:.6f}] [D loss: {:.6f}]]'.format(\n",
    "                epoch, batch_idx * len(data), len(loader.dataset),\n",
    "                100. * batch_idx / len(loader), g_loss.item(), d_loss.item()))\n",
    "            sample_image(generator, n_row=10, batches_done=batches_done)"
   ]
  },
  {
   "cell_type": "code",
   "execution_count": null,
   "metadata": {},
   "outputs": [],
   "source": [
    "batch_size = 64\n",
    "img_size = 28\n",
    "lr, b1, b2 = 0.0002, 0.5, 0.999\n",
    "epochs = 200\n",
    "from_checkpoint = False\n",
    "\n",
    "transform=transforms.Compose([\n",
    "    transforms.Resize(img_size),\n",
    "    transforms.ToTensor(),\n",
    "    transforms.Normalize((0.5,), (0.5,))\n",
    "    # transforms.Normalize((0.1307,), (0.3081,))\n",
    "    ])\n",
    "dataset = datasets.MNIST('./data', train=True, download=True, transform=transform)\n",
    "loader = DataLoader(dataset, batch_size=batch_size, shuffle=True)\n",
    "\n",
    "generator = Generator().to(device)\n",
    "discriminator = Discriminator().to(device)\n",
    "if from_checkpoint:\n",
    "    generator.load_state_dict(torch.load(\"generator.pt\"))\n",
    "    discriminator.load_state_dict(torch.load(\"discriminator.pt\"))\n",
    "optimizer_G = torch.optim.Adam(generator.parameters(), lr=lr, betas=(b1, b2))\n",
    "optimizer_D = torch.optim.Adam(discriminator.parameters(), lr=lr, betas=(b1, b2))\n",
    "\n",
    "loss = torch.nn.MSELoss().to(device)\n",
    "\n",
    "for epoch in range(epochs):\n",
    "    train_gan(generator, discriminator, loader, optimizer_G, optimizer_D, loss, epoch)"
   ]
  },
  {
   "attachments": {},
   "cell_type": "markdown",
   "metadata": {},
   "source": [
    "#### GAN Save/Load"
   ]
  },
  {
   "cell_type": "code",
   "execution_count": 15,
   "metadata": {},
   "outputs": [],
   "source": [
    "# torch.save(generator.state_dict(), \"generator.pt\")\n",
    "# torch.save(discriminator.state_dict(), \"discriminator.pt\")"
   ]
  },
  {
   "attachments": {},
   "cell_type": "markdown",
   "metadata": {},
   "source": [
    "**Run**: 6  \n",
    "Only need to load the generator -- again, the discriminator is used for training the generator, but not for explanation."
   ]
  },
  {
   "cell_type": "code",
   "execution_count": 25,
   "metadata": {},
   "outputs": [
    {
     "data": {
      "text/plain": [
       "Generator(\n",
       "  (label_emb): Embedding(10, 10)\n",
       "  (model): Sequential(\n",
       "    (0): Linear(in_features=110, out_features=128, bias=True)\n",
       "    (1): LeakyReLU(negative_slope=0.2, inplace=True)\n",
       "    (2): Linear(in_features=128, out_features=256, bias=True)\n",
       "    (3): BatchNorm1d(256, eps=0.8, momentum=0.1, affine=True, track_running_stats=True)\n",
       "    (4): LeakyReLU(negative_slope=0.2, inplace=True)\n",
       "    (5): Linear(in_features=256, out_features=512, bias=True)\n",
       "    (6): BatchNorm1d(512, eps=0.8, momentum=0.1, affine=True, track_running_stats=True)\n",
       "    (7): LeakyReLU(negative_slope=0.2, inplace=True)\n",
       "    (8): Linear(in_features=512, out_features=1024, bias=True)\n",
       "    (9): BatchNorm1d(1024, eps=0.8, momentum=0.1, affine=True, track_running_stats=True)\n",
       "    (10): LeakyReLU(negative_slope=0.2, inplace=True)\n",
       "  )\n",
       "  (fc1): Linear(in_features=1024, out_features=784, bias=True)\n",
       "  (activate): Tanh()\n",
       ")"
      ]
     },
     "execution_count": 25,
     "metadata": {},
     "output_type": "execute_result"
    }
   ],
   "source": [
    "generator = Generator().to(device)\n",
    "x = torch.load(\"generator2.pt\")\n",
    "generator.load_state_dict(x)\n",
    "generator.eval()"
   ]
  },
  {
   "attachments": {},
   "cell_type": "markdown",
   "metadata": {},
   "source": [
    "#### CNN and GAN interaction\n",
    "Testing to see the accuracy of the trained CNN on the images generated by the GAN -- it isn't perfect but it's certainly much better than random chance, so they do interact well to some degree."
   ]
  },
  {
   "cell_type": "code",
   "execution_count": 8,
   "metadata": {},
   "outputs": [
    {
     "name": "stdout",
     "output_type": "stream",
     "text": [
      "CNN accuracy on Generator's output:           5775/10000 57%\n"
     ]
    }
   ],
   "source": [
    "def test_GAN_CNN(model, generator, n_samp=10, show=True):\n",
    "    z, labels = gen_GAN_noise(n_samp)\n",
    "    gen_imgs = generator(z, labels)\n",
    "\n",
    "    if show:\n",
    "        grid = make_grid(gen_imgs, nrow=n_samp)\n",
    "        ndarr = grid.mul(255).add_(0.5).clamp_(0, 255).permute(1, 2, 0).to(\"cpu\", torch.uint8).numpy()\n",
    "        im = Image.fromarray(ndarr)\n",
    "        display(im)\n",
    "    model.to(device), gen_imgs.to(device)\n",
    "    res = model(gen_imgs)\n",
    "    num_correct = 0\n",
    "    for i in range(n_samp):\n",
    "        best = [torch.argmax(res[10*i+j]).item() for j in range(n_classes)]\n",
    "        for j in range(n_classes):\n",
    "            if best[j] == j:\n",
    "                num_correct += 1\n",
    "    print(f\"CNN accuracy on Generator's output: \\\n",
    "          {num_correct}/{n_samp*10} {int(100*num_correct/(n_samp*10))}%\")\n",
    "test_GAN_CNN(model, generator, n_samp=1000, show=False)"
   ]
  },
  {
   "attachments": {},
   "cell_type": "markdown",
   "metadata": {},
   "source": [
    "#### Activation Maximization"
   ]
  },
  {
   "attachments": {},
   "cell_type": "markdown",
   "metadata": {},
   "source": [
    "**Run**: 7  \n",
    "Here, we explain the CNN model's decision process by generating n_samples images that both activate the target class highly when passed through the CNN, and are considered \"natural images\" because they are in the range of the generator model."
   ]
  },
  {
   "cell_type": "code",
   "execution_count": 105,
   "metadata": {},
   "outputs": [
    {
     "data": {
      "image/png": "[encoded data removed]",
      "text/plain": [
       "<PIL.Image.Image image mode=RGB size=302x302>"
      ]
     },
     "metadata": {},
     "output_type": "display_data"
    }
   ],
   "source": [
    "n_samples=10\n",
    "def layer_hook(act_dict, layer_name):\n",
    "    def hook(module, input, output):\n",
    "        act_dict[layer_name] = output\n",
    "    return hook\n",
    "def act_max(model, generator, steps, alpha):\n",
    "    z, labels = gen_GAN_noise(n_samples)\n",
    "    cnn_act_dict, gan_act_dict = {}, {}\n",
    "    cnn_layer = 'fc2'\n",
    "    generator_layer = 'fc'\n",
    "    list(model.children())[-1].register_forward_hook(layer_hook(cnn_act_dict, cnn_layer))\n",
    "    list(generator.children())[-1].register_forward_hook(layer_hook(gan_act_dict, generator_layer))\n",
    "    res_images = []\n",
    "    inp_img = generator(z, labels)\n",
    "    for k in range(steps):\n",
    "        inp_img.requires_grad_(True)\n",
    "        inp_img.retain_grad()\n",
    "        # Propagate image\n",
    "        output = model(inp_img)\n",
    "\n",
    "        # Compute gradients\n",
    "        cnn_layer_out = cnn_act_dict[cnn_layer]\n",
    "        cnn_layer_out[0][0].backward(retain_graph=True)\n",
    "        inp_img = torch.add(inp_img, torch.mul(inp_img.grad, alpha))\n",
    "        new_norm = torch.norm(inp_img)\n",
    "        # new_img = torch.mul(inp_img, old_norm/new_norm)\n",
    "        if k % 100 == 0:\n",
    "            torch.cuda.empty_cache()\n",
    "    return inp_img\n",
    "x = act_max(model, generator, 100, 0.5)\n",
    "grid = make_grid(x, nrow=10)\n",
    "ndarr = grid.mul(255).add_(0.5).clamp_(0, 255).permute(1, 2, 0).to(\"cpu\", torch.uint8).numpy()\n",
    "im = Image.fromarray(ndarr)\n",
    "display(im)"
   ]
  },
  {
   "attachments": {},
   "cell_type": "markdown",
   "metadata": {},
   "source": [
    "### Evaluation of project\n",
    "The project does seem to generate images that one would consider representative of their respective classes! There is some extra static or irregularities in some images (like not-quite-solid lines), but generally the '1's look like a 1 and so on! This approach has some particularly interesting aspects -- it uses generative models as a tool to explain other models, and we can mix and match generators with models-to-be-explained as long as the output of the former corresponds to the input of the latter, giving it remarkable flexibility. In the end, though, I don't think this counts as a perfect solution to explaining convolutional neural networks. First of all, philosophically, it's debatable as to the extent to which asking the model to produce what it believes to be representative images of each class can truly be considered a fidelitous and descriptive explanation of the model's classification decision-making. Secondly, we're trying to explain the black-box classifier using another black-box models: the generator. To some extent, we are convoluting things by adding this dependency on the effectiveness of the generator. Thus, the trustworthiness of this method is even more debatable. Regardless, it's an interesting approach to a very hard, unsolved problem."
   ]
  }
 ],
 "metadata": {
  "kernelspec": {
   "display_name": ".venv",
   "language": "python",
   "name": "python3"
  },
  "language_info": {
   "codemirror_mode": {
    "name": "ipython",
    "version": 3
   },
   "file_extension": ".py",
   "mimetype": "text/x-python",
   "name": "python",
   "nbconvert_exporter": "python",
   "pygments_lexer": "ipython3",
   "version": "3.11.2"
  },
  "orig_nbformat": 4
 },
 "nbformat": 4,
 "nbformat_minor": 2
}
